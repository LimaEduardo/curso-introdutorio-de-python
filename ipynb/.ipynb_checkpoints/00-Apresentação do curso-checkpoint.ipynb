{
 "cells": [
  {
   "cell_type": "markdown",
   "metadata": {
    "slideshow": {
     "slide_type": "slide"
    }
   },
   "source": [
    "# Reformatando para slide"
   ]
  },
  {
   "cell_type": "markdown",
   "metadata": {
    "slideshow": {
     "slide_type": "slide"
    }
   },
   "source": []
  },
  {
   "cell_type": "code",
   "execution_count": null,
   "metadata": {
    "slideshow": {
     "slide_type": "slide"
    }
   },
   "outputs": [],
   "source": []
  },
  {
   "cell_type": "code",
   "execution_count": null,
   "metadata": {
    "slideshow": {
     "slide_type": "slide"
    }
   },
   "outputs": [],
   "source": []
  },
  {
   "cell_type": "markdown",
   "metadata": {
    "slideshow": {
     "slide_type": "slide"
    }
   },
   "source": [
    "# Curso Introdutório de Python\n",
    "\n",
    "### Objetivo\n",
    "\n",
    "### Ementa do Curso:\n",
    "\n",
    "#### Introdução:\n",
    "- Sobre python\n",
    "- Sintaxe da linguagem\n",
    "- Porque python?\n",
    "- Comparando com outras linguagens\n",
    "\n",
    "#### Básico de Python:\n",
    "- Blocos\n",
    "- Expressões Aritiméticas\n",
    "- Nome de variáveis e palavras reservadas\n",
    "- Manipulação de Strings\n",
    "- Tipos de Dados\n",
    "- I/O (entrada e saída de dados)\n",
    "\n",
    "#### Operadores:\n",
    "- Operadores Lógicos\n",
    "- Operadores bit-a-bit\n",
    "- Operadores Relacionais\n",
    "- Operadores Condicionais\n",
    "\n",
    "#### Loops (laços de repetições):\n",
    "- For\n",
    "- While\n",
    "\n",
    "#### Estrutura de Dados:\n",
    "- Listas\n",
    "- Tuplas\n",
    "- Dicionários\n",
    "\n",
    "#### Funções:\n",
    "- Estrutura de uma função (sintaxe)\n",
    "- Chamada de uma função\n",
    "- Parâmetros e argumentos\n",
    "- Funções que retornam algo\n",
    "\n",
    "#### Bibliografia:\n",
    "- [Aprenda Computação com Python](http://www3.ifrn.edu.br/~jurandy/fdp/doc/aprenda-python/index.html)\n",
    "- [Aprenda a Pansar como um Ciêntista da Computação](https://panda.ime.usp.br/pensepy/static/pensepy/index.html)\n",
    "- [Automate the Boring Stuf with Python](http://automatetheboringstuff.com/)\n",
    "- [PensePython2e](https://penseallen.github.io/PensePython2e/)\n",
    "- [Python para Desenvolvedores 3ed](https://novatec.com.br/livros/python-para-desenvolvedores)\n",
    "- [Python Cookbook 3rd](https://novatec.com.br/livros/python-cookbook)\n",
    "- [Introduction to Python](https://notebooks.azure.com/eric/libraries)\n",
    "\n",
    "### Links úteis:\n",
    "- []()\n",
    "- []()\n",
    "- []()\n",
    "- []()\n",
    "- []()\n",
    "- []()\n",
    "- []()\n",
    "- []()"
   ]
  }
 ],
 "metadata": {
  "celltoolbar": "Slideshow",
  "kernelspec": {
   "display_name": "Python 3",
   "language": "python",
   "name": "python3"
  },
  "language_info": {
   "codemirror_mode": {
    "name": "ipython",
    "version": 3
   },
   "file_extension": ".py",
   "mimetype": "text/x-python",
   "name": "python",
   "nbconvert_exporter": "python",
   "pygments_lexer": "ipython3",
   "version": "3.4.3"
  }
 },
 "nbformat": 4,
 "nbformat_minor": 2
}
