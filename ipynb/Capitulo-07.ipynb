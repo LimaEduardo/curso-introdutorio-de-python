{
 "cells": [
  {
   "cell_type": "markdown",
   "metadata": {
    "slideshow": {
     "slide_type": "slide"
    }
   },
   "source": [
    "### Bibliografia utilizada:\n",
    "- [Documentação do Python](https://docs.python.org/3/)\n",
    "- [Aprenda Computação com Python](http://www3.ifrn.edu.br/~jurandy/fdp/doc/aprenda-python/index.html)\n",
    "- [Aprenda a Pansar como um Ciêntista da Computação](https://panda.ime.usp.br/pensepy/static/pensepy/index.html)\n",
    "- [Automate the Boring Stuf with Python](http://automatetheboringstuff.com/)\n",
    "- [PensePython2e](https://penseallen.github.io/PensePython2e/)\n",
    "- [Python para Desenvolvedores 3ed](https://novatec.com.br/livros/python-para-desenvolvedores)\n",
    "- [Python Cookbook 3rd](https://novatec.com.br/livros/python-cookbook)\n",
    "- [Introduction to Python](https://notebooks.azure.com/eric/libraries)\n",
    "- [Python Course](https://developers.google.com/edu/python/)"
   ]
  },
  {
   "cell_type": "markdown",
   "metadata": {
    "slideshow": {
     "slide_type": "slide"
    }
   },
   "source": [
    "### Links e materiais recomendados"
   ]
  }
 ],
 "metadata": {
  "celltoolbar": "Slideshow",
  "kernelspec": {
   "display_name": "Python 3",
   "language": "python",
   "name": "python3"
  },
  "language_info": {
   "codemirror_mode": {
    "name": "ipython",
    "version": 3
   },
   "file_extension": ".py",
   "mimetype": "text/x-python",
   "name": "python",
   "nbconvert_exporter": "python",
   "pygments_lexer": "ipython3",
   "version": "3.4.3"
  }
 },
 "nbformat": 4,
 "nbformat_minor": 2
}
