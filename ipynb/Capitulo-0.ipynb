{
 "cells": [
  {
   "cell_type": "markdown",
   "metadata": {
    "slideshow": {
     "slide_type": "slide"
    }
   },
   "source": [
    "<script src=\"https://use.fontawesome.com/1fba386258.js\"></script>\n",
    "<div align='center'>\n",
    "\t<img src='../images/logo_h.jpg' alt='grupy-lavras logo'/>\n",
    "    <br/>\n",
    "    <span>Grupo de Usuários Python de Lavras e região!</span>\n",
    "    <br/><br/>\n",
    "\t<div>\n",
    "        <a href='https://www.facebook.com/grupylavras/' style=\"text-decoration: none;\"><i class=\"fa fa-facebook-square\"></i> /grupylavras</a>\n",
    "        <a href='mailto:grupylavras@gmail.com' style=\"margin: 0 1em 0 1em;text-decoration: none;\"><i class=\"fa fa-envelope\"></i> grupylavras@gmail.com</a>\n",
    "        <a href='http://grupy-lavras.github.io/' style=\"text-decoration: none;\"><i class=\"fa fa-link\"></i> grupy-lavras.github.io/</a>\n",
    "\t    <div> \n",
    "\t    <br/> \n",
    "         <sub>Licenciado sob [MIT](https://opensource.org/licenses/MIT) | [Creative Commons](https://creativecommons.org/licenses/by-nc-sa/4.0/)<br/>Copyright (C) 2018 Grupy Lavras.</sub>\n",
    "\t    </div> \n",
    "\t</div> \n",
    "\t<br/><br/> \n",
    "</div> "
   ]
  },
  {
   "cell_type": "markdown",
   "metadata": {
    "slideshow": {
     "slide_type": "slide"
    }
   },
   "source": [
    "### Objetivo"
   ]
  },
  {
   "cell_type": "markdown",
   "metadata": {
    "slideshow": {
     "slide_type": "subslide"
    }
   },
   "source": [
    "### Ementa do Curso:"
   ]
  },
  {
   "cell_type": "markdown",
   "metadata": {
    "slideshow": {
     "slide_type": "fragment"
    }
   },
   "source": [
    "\n",
    "#### Capítulo 01 - Introdução:\n",
    "- Sobre python\n",
    "- Sintaxe da linguagem\n",
    "- Porque python?\n",
    "- Comparando com outras linguagens"
   ]
  },
  {
   "cell_type": "markdown",
   "metadata": {
    "slideshow": {
     "slide_type": "subslide"
    }
   },
   "source": [
    "#### Capítulo 02 - Básico de Python:\n",
    "\n",
    "- Blocos\n",
    "- Expressões Aritiméticas\n",
    "- Nome de variáveis e palavras reservadas\n",
    "- Manipulação de Strings\n",
    "- Tipos de Dados\n",
    "- I/O (entrada e saída de dados)"
   ]
  },
  {
   "cell_type": "markdown",
   "metadata": {
    "slideshow": {
     "slide_type": "subslide"
    }
   },
   "source": [
    "#### Capítulo 03 - Operadores:\n",
    "- Operadores Lógicos\n",
    "- Operadores bit-a-bit\n",
    "- Operadores Relacionais\n",
    "- Operadores Condicionais"
   ]
  },
  {
   "cell_type": "markdown",
   "metadata": {
    "slideshow": {
     "slide_type": "subslide"
    }
   },
   "source": [
    "#### Capítulo 04 - Loops (laços de repetições):\n",
    "- For\n",
    "- While"
   ]
  },
  {
   "cell_type": "markdown",
   "metadata": {
    "slideshow": {
     "slide_type": "fragment"
    }
   },
   "source": [
    "#### Capítulo 05 - Estrutura de Dados:\n",
    "- Listas\n",
    "- Tuplas\n",
    "- Dicionários"
   ]
  },
  {
   "cell_type": "markdown",
   "metadata": {
    "slideshow": {
     "slide_type": "subslide"
    }
   },
   "source": [
    "#### Capítulo 06 - Funções:\n",
    "- Estrutura de uma função (sintaxe)\n",
    "- Chamada de uma função\n",
    "- Parâmetros e argumentos\n",
    "- Funções que retornam algo"
   ]
  },
  {
   "cell_type": "markdown",
   "metadata": {
    "slideshow": {
     "slide_type": "slide"
    }
   },
   "source": [
    "<div align='center'>\n",
    "    <h2>Próximo Capítulo<h2>\n",
    "    <a href='../ipynb/Capitulo-01.ipynb#/slide-0-0'>Indrodução ao Python</a>\n",
    "</div>"
   ]
  }
 ],
 "metadata": {
  "celltoolbar": "Slideshow",
  "kernelspec": {
   "display_name": "Python 3",
   "language": "python",
   "name": "python3"
  },
  "language_info": {
   "codemirror_mode": {
    "name": "ipython",
    "version": 3
   },
   "file_extension": ".py",
   "mimetype": "text/x-python",
   "name": "python",
   "nbconvert_exporter": "python",
   "pygments_lexer": "ipython3",
   "version": "3.4.3"
  }
 },
 "nbformat": 4,
 "nbformat_minor": 2
}
