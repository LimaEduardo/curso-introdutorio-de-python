{
 "cells": [
  {
   "cell_type": "markdown",
   "metadata": {},
   "source": [
    "# 04. Laços de repetição (loops)\n",
    "\n",
    "Laços(loops) são estruturas de repetição, geralmente usados para processar coleções de dados, tais como linhas de uma arquivo ou registro de um banco de dados, que precisam ser processados por um bloco de código.\n",
    "\n",
    "Sendo assim para realizar repetidas vezes uma determinada sequência de instruções, utilizamos os **iteradores** **`for`** e **`while`**. O processo de fazer esse trabalho repetitivas vezes é chamado de **iteração**. Ou, seja, acesso aos itens de uma coleção de elementos, de forma sequencial."
   ]
  },
  {
   "cell_type": "markdown",
   "metadata": {},
   "source": [
    "## 4.2 Iterador for\n",
    "\n",
    "Em python a estrutura de repetição mais utilizada é o **`for`**. A instrução aceita não só sequências estáticas, mas também sequências geradas por iteradores.\n",
    "\n",
    "![laço_de_repetição_for](http://localhost:8888/files/images/la%C3%A7o_for.png)"
   ]
  },
  {
   "cell_type": "markdown",
   "metadata": {},
   "source": [
    "Durante a execução de um laço `for`, a referência aponta para um elemento da sequência. A cada iteração, a referência é atualizada, para que o bloco de código do `for` processe o elemento correspondente. \n",
    "\n",
    "Para interromeper uma laço, utilizamos a clausula **`break`**. E para continuar para a próxima iteração utilizamos a clausula **`continue`**. O código dentro do **`else`** é executado ao final do laço, a não ser que o laço tenha sido interrompido por **`break`**.\n",
    "\n",
    "Sintaxe\n",
    "\n",
    "```text\n",
    "for <referência> in <sequência>:\n",
    "    <bloco de código>\n",
    "    continue\n",
    "    break\n",
    "else:\n",
    "   <bloco de código>\n",
    "```"
   ]
  },
  {
   "cell_type": "code",
   "execution_count": 1,
   "metadata": {
    "scrolled": true
   },
   "outputs": [
    {
     "name": "stdout",
     "output_type": "stream",
     "text": [
      "4950\n"
     ]
    }
   ],
   "source": [
    "# Exemplo 1 - Soma de 0 a 99\n",
    "soma =  0\n",
    "for x in range(1, 100):\n",
    "    soma = soma + x\n",
    "print(soma)"
   ]
  },
  {
   "cell_type": "markdown",
   "metadata": {},
   "source": [
    "### 4.3 Operador while\n",
    "\n",
    "Outra estrutura de repetição utilizada é o iterador **`while`**. O `while` fornece um mecanismo muito mais geral para iteração. Semelhante ao comando `if`, ele usa uma expressão booleana para controlar o fluxo de execução. O corpo do `while` será repetido enquanto a expressão booleana de controle for avaliada como **True**.\n",
    "\n",
    "Com o `while` é possível criar qualquer tipo de iteração, incluindo tudo que já foi mostrado usando o `for`.\n",
    "\n",
    "\n",
    "Sintaxe\n",
    "\n",
    "```text\n",
    "while <condição>:\n",
    "    <bloco de código>\n",
    "    continue\n",
    "    break\n",
    "else:\n",
    "    <bloco de código>\n",
    "```\n",
    "\n",
    "O bloco de código dentro do laço `while` é repetido enquanto a condição do laço estiver sendo avaliada como verdadeira."
   ]
  },
  {
   "cell_type": "code",
   "execution_count": 5,
   "metadata": {},
   "outputs": [
    {
     "name": "stdout",
     "output_type": "stream",
     "text": [
      "4950\n"
     ]
    }
   ],
   "source": [
    "# Exemplo Soma números de 0 a 99\n",
    "soma = 0\n",
    "numero = 1\n",
    "while numero < 100:\n",
    "    soma = soma + numero\n",
    "    numero = numero + 1\n",
    "#     numero += 1\n",
    "print(soma)"
   ]
  },
  {
   "cell_type": "markdown",
   "metadata": {},
   "source": [
    "O laço `while` é adequado quando não há como determinar quantas iterações vão ocorrer e não há uma sequência a seguir."
   ]
  },
  {
   "cell_type": "code",
   "execution_count": null,
   "metadata": {},
   "outputs": [],
   "source": []
  }
 ],
 "metadata": {
  "kernelspec": {
   "display_name": "Python 3",
   "language": "python",
   "name": "python3"
  },
  "language_info": {
   "codemirror_mode": {
    "name": "ipython",
    "version": 3
   },
   "file_extension": ".py",
   "mimetype": "text/x-python",
   "name": "python",
   "nbconvert_exporter": "python",
   "pygments_lexer": "ipython3",
   "version": "3.4.3"
  }
 },
 "nbformat": 4,
 "nbformat_minor": 2
}
