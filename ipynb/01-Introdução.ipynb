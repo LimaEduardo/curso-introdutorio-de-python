{
 "cells": [
  {
   "cell_type": "markdown",
   "metadata": {
    "slideshow": {
     "slide_type": "slide"
    }
   },
   "source": [
    "## 1. Introdução ao Python"
   ]
  },
  {
   "cell_type": "markdown",
   "metadata": {
    "slideshow": {
     "slide_type": "slide"
    }
   },
   "source": [
    "### 1.1. Sobre Python\n",
    "\n",
    "\n",
    "Python é uma **linguagem de altíssimo nível** (VHLL - Very High Level Language), de **sintaxe moderna**, **orientada a objetos**, **interpretada via bytecode**, de **script**, **funcional**, **com tipagem forte** (não há conversões automáticas) e **dinâmica** (não há declaração de variáveis e elas podem conter diferentes objetos), **modular**, **multiplataforma**, **de fácil aprendizado e de implementação livre**."
   ]
  },
  {
   "cell_type": "markdown",
   "metadata": {
    "slideshow": {
     "slide_type": "subslide"
    }
   },
   "source": [
    "A linguagem foi criada em 1990 por Guido van Rossum, no Instituto Nacional de Pesquisa para Matemática e Ciência da Computação da Holanda (CWI) e tinha originalmente foco em usuários como físicos e engenheiros. O\n",
    "Python foi concebido a partir de outra linguagem existente na época, chamada ABC.\n",
    "Atualmente possui um modelo de desenvolvimento comunitário, aberto e gerenciado pela Python Software Foundation.\n",
    "\n",
    "\n",
    "Ao contrário do que normalmente se pensa, a origem do nome da linguagem não é a espécie de serpente \"Pitón\" e sim o grupo inglês de humoristas \"Monty Python\". O uso da serpente como símbolo da linguagem se difundiu depois da publicação do [ProgrammingPython](https://wiki.python.org.br/ProgrammingPython) da editora O'Reilly."
   ]
  },
  {
   "cell_type": "markdown",
   "metadata": {
    "slideshow": {
     "slide_type": "subslide"
    }
   },
   "source": [
    "- **Linguagem de programação de alto nível** é como se chama, na Ciência da Computação, linguagens que possue um nível de abstração relativamente elevado, longe do código de máquina e mais próximo à linguagem humana.\n",
    "Exemplos: Python, R, Ruby, C++, JAVA, PHP, etc..."
   ]
  },
  {
   "cell_type": "markdown",
   "metadata": {
    "slideshow": {
     "slide_type": "subslide"
    }
   },
   "source": [
    "- **Interpretada via bytecode** é um tipo de linguagem interpretada que passa pelo processo de compilação e, em seguida, é executado por uma máquina virtual, cuja sintaxe é similar a código de máquina e cada comando ocupa 1 byte."
   ]
  },
  {
   "cell_type": "markdown",
   "metadata": {
    "slideshow": {
     "slide_type": "subslide"
    }
   },
   "source": [
    "- **Script** programas escritos para um sistema de tempo de execução especial que automatiza a execução de tarefas que poderiam alternativamente ser executadas uma por vez por um operador humano.\n",
    "\n",
    "\n",
    "Existem também implementações de Python para .NET (IronPython), JVM(Jython) e em Python (PyPy)."
   ]
  },
  {
   "cell_type": "markdown",
   "metadata": {
    "slideshow": {
     "slide_type": "slide"
    }
   },
   "source": [
    "### 1.2. Porque Python?"
   ]
  },
  {
   "cell_type": "markdown",
   "metadata": {
    "slideshow": {
     "slide_type": "subslide"
    }
   },
   "source": [
    "- Porque Python é uma linguagem simples e elegante. \n",
    "- Porque Python é fácil de aprender. \n",
    "- Porque Python pode ser usado para resolver uma grande variedade de problemas. \n",
    "- Porque Python incentiva você a escrever seus programas da maneira correta, sem que isso se torne um empecilho à produtividade."
   ]
  },
  {
   "cell_type": "markdown",
   "metadata": {
    "slideshow": {
     "slide_type": "subslide"
    }
   },
   "source": [
    "Python tem uma curva de aprendizado bastante interessante, permitindo que novos programadores, mesmo os que nunca tenham programado antes, sejam imediatamente produtivos escrevendo scripts procedurais. O programador pode executar o interpretador como um shell, vendo imediatamente o resultado da saída de cada comando e explorando os recursos da linguagem interativamente."
   ]
  },
  {
   "cell_type": "markdown",
   "metadata": {
    "slideshow": {
     "slide_type": "subslide"
    }
   },
   "source": [
    "Para construir aplicações mais complexas, Python possibilita a fácil migração para a programação orientada a objetos. Um programa pode evoluir naturalmente para esse paradigma à medida que se torna mais complexo. A facilidade inicial do Python não barateia a linguagem, como é comum em linguagens que têm por objetivo expresso serem fáceis de aprender. **Python é simples de aprender porque é uma linguagem bem planejada.**"
   ]
  },
  {
   "cell_type": "markdown",
   "metadata": {
    "slideshow": {
     "slide_type": "slide"
    }
   },
   "source": [
    "###  1.3. Sintaxe da linguagem Python"
   ]
  },
  {
   "cell_type": "markdown",
   "metadata": {
    "slideshow": {
     "slide_type": "subslide"
    }
   },
   "source": [
    "**Comentários:**\n",
    "\n",
    "O símbolo **#** indica que o texto a partir daquele ponto e até o final da linha deve ser ignorado pelo interpretador **python**.\n",
    "\n",
    "Exceto quando **#** aparece em uma string.\n",
    "\n",
    "Para comentários de várias linhas, usa-se três aspas simples ou duplas (isso cria uma \"doc string\" e não é ignorada pelo **python**, mas é usada para documentar).\n",
    "\n",
    "\n",
    "**Exemplos:**\n"
   ]
  },
  {
   "cell_type": "code",
   "execution_count": 1,
   "metadata": {
    "slideshow": {
     "slide_type": "subslide"
    }
   },
   "outputs": [],
   "source": [
    "# Isso é um comentário de uma linha"
   ]
  },
  {
   "cell_type": "code",
   "execution_count": 2,
   "metadata": {
    "slideshow": {
     "slide_type": "subslide"
    }
   },
   "outputs": [
    {
     "data": {
      "text/plain": [
       "' Isso é um comentário para várias linhas.\\n    Utilizado para documentar uma função por exemplo.\\n'"
      ]
     },
     "execution_count": 2,
     "metadata": {},
     "output_type": "execute_result"
    }
   ],
   "source": [
    "\"\"\" Isso é um comentário para várias linhas.\n",
    "    Utilizado para documentar uma função por exemplo.\n",
    "\"\"\""
   ]
  },
  {
   "cell_type": "code",
   "execution_count": 3,
   "metadata": {
    "slideshow": {
     "slide_type": "subslide"
    }
   },
   "outputs": [
    {
     "name": "stdout",
     "output_type": "stream",
     "text": [
      "# Exceto quando dentro de uma string.\n"
     ]
    }
   ],
   "source": [
    "print(\"# Exceto quando dentro de uma string.\")"
   ]
  }
 ],
 "metadata": {
  "celltoolbar": "Slideshow",
  "kernelspec": {
   "display_name": "Python 3",
   "language": "python",
   "name": "python3"
  },
  "language_info": {
   "codemirror_mode": {
    "name": "ipython",
    "version": 3
   },
   "file_extension": ".py",
   "mimetype": "text/x-python",
   "name": "python",
   "nbconvert_exporter": "python",
   "pygments_lexer": "ipython3",
   "version": "3.4.3"
  }
 },
 "nbformat": 4,
 "nbformat_minor": 2
}
